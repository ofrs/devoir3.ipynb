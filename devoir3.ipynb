import pandas as pan

pan.options.display.float_format = "{:.2f}".format

importation du module afin de pouvoir lire ce très gros fichier

gr = pan.read_csv("grants.csv")

grants.csv a été logé dans un dossier sur mon bureau puisque impossible pour anaconda prompt de l'ouvrir sinon

gr.dtypes

le type de variable me permet de voir notamment ce que contient le fichier, entre les chaînes de caractères dont agreement_value. Je vais chercher à transformer son contenu en un nombre que pandas puisse traiter. 

gr


voici ce que contient le fichier en colonne, pas besoin d'utiliser print, c'est plus lisible comme interface !

voici le nom des colonnes en bas, je vais passer un petit coup de plumeau pour faire le ménage. 

gr.columns

je débute, ne me jugez pas trop ! j'ai essayé cette méthode, mais vite compris que ce n'est pas la bonne... Je reviendrais sur le changement de nom plus tard 

gr = gr.drop("federal_riding_name_en",1)

gr.columns



gr = gr.drop(["prog_name_en","prog_purpose_en","agreement_title_en","description_en","expected_results_en","additional_information_en"],1)

voilà ! j'ai enfin compris comment tout assembler pour que ça fonctionne, les parenthèses ...

gr["agreement_value"]

je vais faire le ménage de cette colonne, en enlevant les virgules, mais aussi les signes de la devise pour que le nombre ne soit plus encombré. 

gr.agreement_value = gr.agreement_value.str.replace("$","")

gr["agreement_value"]



gr


gr.dtypes

Pourquoi tu es toujours une chaîne de caractère ????

gr.agreement_value = gr.agreement_value.str.replace(",",".")

gr["agreement_value"]


gr.dtypes

après avoir lu et relu l'énoncé, peut être que cela vous suffit, ne saurais je donc jamais te transformer "agreement_value" en nombre décimal....

gr

gr["agreement_value"]



gr.agreement_value.max()

gr.agreement_value = gr.agreement_value.str.replace("''","")

gr.dtypes

gr.agreement_value.max()


gr.agreement_value = gr.agreement_value.str.dtypes("object")

gr.agreement_value = gr.agreement_value.str.replace("na","")

gr.dtypes

gr.agreement_value = gr.agreement_value.str.replace("na","")

gr.dtypes

je crois que je vais abandonner là, et enfin faire la suite de l'exercice...

gr.dtypes

gr.columns

gr.columns = ['refNombre', 'amendementNombre', 'amendementDate', 'typeAccord',
       'typeBeneficiaire', 'numeroEntrepriseDestinataire','nomLegalDestinataire',
       'nomExploitationDestinataire', 'nomOrganismeRecherche',
       'paysDestinataire', 'provinceDestinataire', 'VilleDestinataire',
       'codePostalDestinataire', 'nomCirconscriptionFederale',
       'numeroCirconscriptionFederale', 'nomProgramme', 'butProgramme',
       'titreAccord', 'numeroAccord', 'valeurAccord',
       'typeDeviseEtrangere', 'valeurDeviseEtrangere',
       'dateDebutAccord', 'dateFinAccord', 'couverture',
       'description', 'identifiantsNaics', 'resultatsAttendus',
       'informationAdditionnelle', 'organisationProprietaire', 'titreOrganisationProprietaire']

Françisons le tout ! a la suite d'une liste, je change les noms 

gr.columns


gr

gr ["nomProgramme"]

gr.nomProgramme.value_counts()

gen = gr.nomProgramme.str.contains("echerche",na=False)

journalisme = recherche ? serait-ce le petit indice que vous nous avez donné ? 

gr[gen].nomProgramme.value_counts()

Voici un sous-ensemble qui ma foi, me semble le plus grand. Mais le chiffre de la deuxième ligne est bizarre peut être coupé, alors je fais un sous-ensemble de jeunesse aussi puisque je ne sais pas lequel est le plus grand au final... je ne compte pas les majuscules puisque ça fausserait les résultats. 

jeu = gr.nomProgramme.str.contains("eunesse",na=False)

gr[jeu].nomProgramme.value_counts()

gr["nomLegalDestinataire"]

et là le blocage, je n'arrive pas à faire une colonne avec loc... 

gr.loc["nomProgramme","valeurAccord","nomLegalDestinataire"]
